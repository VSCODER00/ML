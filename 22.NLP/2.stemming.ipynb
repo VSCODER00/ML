{
 "cells": [
  {
   "cell_type": "code",
   "execution_count": 1,
   "id": "346ea341",
   "metadata": {},
   "outputs": [],
   "source": [
    "words=[\"eating\",\"eats\",\"eaten\",\"writing\",\"writes\",\"programming\",\"programs\",\"history\",\"finally\",\"finalized\"]"
   ]
  },
  {
   "cell_type": "markdown",
   "id": "5fa9e370",
   "metadata": {},
   "source": [
    "PorterStemmer:"
   ]
  },
  {
   "cell_type": "code",
   "execution_count": 2,
   "id": "14a53e59",
   "metadata": {},
   "outputs": [
    {
     "name": "stdout",
     "output_type": "stream",
     "text": [
      "eating-->eat\n",
      "eats-->eat\n",
      "eaten-->eaten\n",
      "writing-->write\n",
      "writes-->write\n",
      "programming-->program\n",
      "programs-->program\n",
      "history-->histori\n",
      "finally-->final\n",
      "finalized-->final\n"
     ]
    }
   ],
   "source": [
    "from nltk.stem import PorterStemmer\n",
    "stemming=PorterStemmer()\n",
    "for word in words:\n",
    "    print(word+\"-->\"+stemming.stem(word))"
   ]
  },
  {
   "cell_type": "markdown",
   "id": "f80737d9",
   "metadata": {},
   "source": [
    "RegexStemmer:"
   ]
  },
  {
   "cell_type": "code",
   "execution_count": 8,
   "id": "16ad06b1",
   "metadata": {},
   "outputs": [
    {
     "name": "stdout",
     "output_type": "stream",
     "text": [
      "running-->runn\n",
      "eating-->eat\n",
      "easily-->easi\n"
     ]
    }
   ],
   "source": [
    "from nltk.stem import RegexpStemmer\n",
    "stemming=RegexpStemmer('ing$|ly$')\n",
    "words=['running','eating','easily']\n",
    "for word in words:\n",
    "    print(word+\"-->\"+stemming.stem(word))\n"
   ]
  },
  {
   "cell_type": "markdown",
   "id": "9a38f8d5",
   "metadata": {},
   "source": [
    "SnowBal Stemmer:"
   ]
  },
  {
   "cell_type": "code",
   "execution_count": 11,
   "id": "8a1e497c",
   "metadata": {},
   "outputs": [
    {
     "name": "stdout",
     "output_type": "stream",
     "text": [
      "eating-->eat\n",
      "eats-->eat\n",
      "eaten-->eaten\n",
      "writing-->write\n",
      "writes-->write\n",
      "programming-->program\n",
      "programs-->program\n",
      "history-->histori\n",
      "finally-->final\n",
      "finalized-->final\n"
     ]
    }
   ],
   "source": [
    "from nltk.stem import SnowballStemmer\n",
    "stemming=SnowballStemmer(language=\"english\")\n",
    "words=[\"eating\",\"eats\",\"eaten\",\"writing\",\"writes\",\"programming\",\"programs\",\"history\",\"finally\",\"finalized\"]\n",
    "for word in words:\n",
    "    print(word+\"-->\"+stemming.stem(word))"
   ]
  },
  {
   "cell_type": "markdown",
   "id": "12aaa7cb",
   "metadata": {},
   "source": [
    "Lancaster Stemmer:"
   ]
  },
  {
   "cell_type": "code",
   "execution_count": 13,
   "id": "b1567336",
   "metadata": {},
   "outputs": [
    {
     "name": "stdout",
     "output_type": "stream",
     "text": [
      "eating-->eat\n",
      "eats-->eat\n",
      "eaten-->eat\n",
      "writing-->writ\n",
      "writes-->writ\n",
      "programming-->program\n",
      "programs-->program\n",
      "history-->hist\n",
      "finally-->fin\n",
      "finalized-->fin\n"
     ]
    }
   ],
   "source": [
    "from nltk.stem import LancasterStemmer\n",
    "stemming=LancasterStemmer()\n",
    "words=[\"eating\",\"eats\",\"eaten\",\"writing\",\"writes\",\"programming\",\"programs\",\"history\",\"finally\",\"finalized\"]\n",
    "for word in words:\n",
    "    print(word+\"-->\"+stemming.stem(word))"
   ]
  },
  {
   "cell_type": "code",
   "execution_count": null,
   "id": "7e1e83e4",
   "metadata": {},
   "outputs": [],
   "source": []
  }
 ],
 "metadata": {
  "kernelspec": {
   "display_name": "venv",
   "language": "python",
   "name": "python3"
  },
  "language_info": {
   "codemirror_mode": {
    "name": "ipython",
    "version": 3
   },
   "file_extension": ".py",
   "mimetype": "text/x-python",
   "name": "python",
   "nbconvert_exporter": "python",
   "pygments_lexer": "ipython3",
   "version": "3.10.0"
  }
 },
 "nbformat": 4,
 "nbformat_minor": 5
}
