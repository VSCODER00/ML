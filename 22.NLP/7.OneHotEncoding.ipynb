{
 "cells": [
  {
   "cell_type": "code",
   "execution_count": 8,
   "id": "5ad7cad5",
   "metadata": {},
   "outputs": [],
   "source": [
    "from sklearn.preprocessing import OneHotEncoder\n",
    "from nltk import word_tokenize"
   ]
  },
  {
   "cell_type": "code",
   "execution_count": 27,
   "id": "28386e99",
   "metadata": {},
   "outputs": [
    {
     "data": {
      "text/plain": [
       "['Taj',\n",
       " 'Mahal',\n",
       " 'is',\n",
       " 'a',\n",
       " 'beautiful',\n",
       " 'monumnent',\n",
       " '.',\n",
       " 'I',\n",
       " 'have',\n",
       " 'been',\n",
       " 'to',\n",
       " 'Agra',\n",
       " '2',\n",
       " 'times']"
      ]
     },
     "execution_count": 27,
     "metadata": {},
     "output_type": "execute_result"
    }
   ],
   "source": [
    "sentence=\"Taj Mahal is a beautiful monumnent. I have been to Agra 2 times\"\n",
    "encoder=OneHotEncoder()\n",
    "words=word_tokenize(sentence)\n",
    "words"
   ]
  },
  {
   "cell_type": "code",
   "execution_count": 28,
   "id": "d52a0916",
   "metadata": {},
   "outputs": [],
   "source": [
    "words_array = []\n",
    "for word in words:\n",
    "    temp=[word]\n",
    "    words_array.append(temp)\n",
    "    "
   ]
  },
  {
   "cell_type": "code",
   "execution_count": 29,
   "id": "3ed3ff2e",
   "metadata": {},
   "outputs": [
    {
     "data": {
      "text/plain": [
       "[['Taj'],\n",
       " ['Mahal'],\n",
       " ['is'],\n",
       " ['a'],\n",
       " ['beautiful'],\n",
       " ['monumnent'],\n",
       " ['.'],\n",
       " ['I'],\n",
       " ['have'],\n",
       " ['been'],\n",
       " ['to'],\n",
       " ['Agra'],\n",
       " ['2'],\n",
       " ['times']]"
      ]
     },
     "execution_count": 29,
     "metadata": {},
     "output_type": "execute_result"
    }
   ],
   "source": [
    "words_array"
   ]
  },
  {
   "cell_type": "code",
   "execution_count": 30,
   "id": "bdc46149",
   "metadata": {},
   "outputs": [
    {
     "name": "stdout",
     "output_type": "stream",
     "text": [
      "[[0. 0. 0. 0. 0. 1. 0. 0. 0. 0. 0. 0. 0. 0.]\n",
      " [0. 0. 0. 0. 1. 0. 0. 0. 0. 0. 0. 0. 0. 0.]\n",
      " [0. 0. 0. 0. 0. 0. 0. 0. 0. 0. 1. 0. 0. 0.]\n",
      " [0. 0. 0. 0. 0. 0. 1. 0. 0. 0. 0. 0. 0. 0.]\n",
      " [0. 0. 0. 0. 0. 0. 0. 1. 0. 0. 0. 0. 0. 0.]\n",
      " [0. 0. 0. 0. 0. 0. 0. 0. 0. 0. 0. 1. 0. 0.]\n",
      " [1. 0. 0. 0. 0. 0. 0. 0. 0. 0. 0. 0. 0. 0.]\n",
      " [0. 0. 0. 1. 0. 0. 0. 0. 0. 0. 0. 0. 0. 0.]\n",
      " [0. 0. 0. 0. 0. 0. 0. 0. 0. 1. 0. 0. 0. 0.]\n",
      " [0. 0. 0. 0. 0. 0. 0. 0. 1. 0. 0. 0. 0. 0.]\n",
      " [0. 0. 0. 0. 0. 0. 0. 0. 0. 0. 0. 0. 0. 1.]\n",
      " [0. 0. 1. 0. 0. 0. 0. 0. 0. 0. 0. 0. 0. 0.]\n",
      " [0. 1. 0. 0. 0. 0. 0. 0. 0. 0. 0. 0. 0. 0.]\n",
      " [0. 0. 0. 0. 0. 0. 0. 0. 0. 0. 0. 0. 1. 0.]]\n"
     ]
    }
   ],
   "source": [
    "ohe=encoder.fit_transform(words_array)\n",
    "print(ohe.toarray())"
   ]
  },
  {
   "cell_type": "code",
   "execution_count": null,
   "id": "f447d939",
   "metadata": {},
   "outputs": [],
   "source": []
  }
 ],
 "metadata": {
  "kernelspec": {
   "display_name": "venv",
   "language": "python",
   "name": "python3"
  },
  "language_info": {
   "codemirror_mode": {
    "name": "ipython",
    "version": 3
   },
   "file_extension": ".py",
   "mimetype": "text/x-python",
   "name": "python",
   "nbconvert_exporter": "python",
   "pygments_lexer": "ipython3",
   "version": "3.10.0"
  }
 },
 "nbformat": 4,
 "nbformat_minor": 5
}
