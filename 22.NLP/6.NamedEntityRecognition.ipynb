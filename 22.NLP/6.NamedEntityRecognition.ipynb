{
 "cells": [
  {
   "cell_type": "code",
   "execution_count": 1,
   "id": "3ea71e13",
   "metadata": {},
   "outputs": [],
   "source": [
    "from nltk import ne_chunk,pos_tag,word_tokenize\n",
    "sentence=\"Taj Mahal is a beautiful monument\"\n",
    "words=word_tokenize(sentence)\n"
   ]
  },
  {
   "cell_type": "code",
   "execution_count": 3,
   "id": "dc1f823e",
   "metadata": {},
   "outputs": [],
   "source": [
    "tags=pos_tag(words)\n",
    "op=ne_chunk(tags)"
   ]
  },
  {
   "cell_type": "code",
   "execution_count": 5,
   "id": "c48014dd",
   "metadata": {},
   "outputs": [
    {
     "name": "stdout",
     "output_type": "stream",
     "text": [
      "(S\n",
      "  (PERSON Taj/NNP)\n",
      "  (ORGANIZATION Mahal/NNP)\n",
      "  is/VBZ\n",
      "  a/DT\n",
      "  beautiful/JJ\n",
      "  monument/NN)\n"
     ]
    }
   ],
   "source": [
    "print(op)"
   ]
  },
  {
   "cell_type": "code",
   "execution_count": null,
   "id": "914cb933",
   "metadata": {},
   "outputs": [],
   "source": []
  }
 ],
 "metadata": {
  "kernelspec": {
   "display_name": "venv",
   "language": "python",
   "name": "python3"
  },
  "language_info": {
   "codemirror_mode": {
    "name": "ipython",
    "version": 3
   },
   "file_extension": ".py",
   "mimetype": "text/x-python",
   "name": "python",
   "nbconvert_exporter": "python",
   "pygments_lexer": "ipython3",
   "version": "3.10.0"
  }
 },
 "nbformat": 4,
 "nbformat_minor": 5
}
