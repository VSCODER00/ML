{
 "cells": [
  {
   "cell_type": "code",
   "execution_count": 2,
   "id": "277afa25",
   "metadata": {},
   "outputs": [],
   "source": [
    "sentences=\"Hello I am Vatsal Shah. What are you doing guys. I am currently learning NLP.\""
   ]
  },
  {
   "cell_type": "code",
   "execution_count": 3,
   "id": "1975e86b",
   "metadata": {},
   "outputs": [],
   "source": [
    "from nltk import sent_tokenize\n",
    "dataset=sent_tokenize(sentences)"
   ]
  },
  {
   "cell_type": "code",
   "execution_count": 4,
   "id": "9cf85648",
   "metadata": {},
   "outputs": [
    {
     "data": {
      "text/plain": [
       "['Hello I am Vatsal Shah.',\n",
       " 'What are you doing guys.',\n",
       " 'I am currently learning NLP.']"
      ]
     },
     "execution_count": 4,
     "metadata": {},
     "output_type": "execute_result"
    }
   ],
   "source": [
    "dataset"
   ]
  },
  {
   "cell_type": "code",
   "execution_count": 5,
   "id": "6d602c89",
   "metadata": {},
   "outputs": [],
   "source": [
    "from sklearn.feature_extraction.text import CountVectorizer\n",
    "vectorizer=CountVectorizer()"
   ]
  },
  {
   "cell_type": "code",
   "execution_count": 6,
   "id": "fa4a8be3",
   "metadata": {},
   "outputs": [],
   "source": [
    "x=vectorizer.fit_transform(dataset)"
   ]
  },
  {
   "cell_type": "code",
   "execution_count": 7,
   "id": "4e2a0832",
   "metadata": {},
   "outputs": [
    {
     "data": {
      "text/plain": [
       "array(['am', 'are', 'currently', 'doing', 'guys', 'hello', 'learning',\n",
       "       'nlp', 'shah', 'vatsal', 'what', 'you'], dtype=object)"
      ]
     },
     "execution_count": 7,
     "metadata": {},
     "output_type": "execute_result"
    }
   ],
   "source": [
    "vocab=vectorizer.get_feature_names_out()\n",
    "vocab"
   ]
  },
  {
   "cell_type": "code",
   "execution_count": 9,
   "id": "eac60d62",
   "metadata": {},
   "outputs": [
    {
     "data": {
      "text/plain": [
       "array([[1, 0, 0, 0, 0, 1, 0, 0, 1, 1, 0, 0],\n",
       "       [0, 1, 0, 1, 1, 0, 0, 0, 0, 0, 1, 1],\n",
       "       [1, 0, 1, 0, 0, 0, 1, 1, 0, 0, 0, 0]])"
      ]
     },
     "execution_count": 9,
     "metadata": {},
     "output_type": "execute_result"
    }
   ],
   "source": [
    "x.toarray()"
   ]
  },
  {
   "cell_type": "code",
   "execution_count": 10,
   "id": "bb8e30a3",
   "metadata": {},
   "outputs": [
    {
     "data": {
      "text/plain": [
       "{'hello': 5,\n",
       " 'am': 0,\n",
       " 'vatsal': 9,\n",
       " 'shah': 8,\n",
       " 'what': 10,\n",
       " 'are': 1,\n",
       " 'you': 11,\n",
       " 'doing': 3,\n",
       " 'guys': 4,\n",
       " 'currently': 2,\n",
       " 'learning': 6,\n",
       " 'nlp': 7}"
      ]
     },
     "execution_count": 10,
     "metadata": {},
     "output_type": "execute_result"
    }
   ],
   "source": [
    "vectorizer.vocabulary_"
   ]
  },
  {
   "cell_type": "markdown",
   "id": "f7eb9ccb",
   "metadata": {},
   "source": [
    "N grams: used for contextual awareness:"
   ]
  },
  {
   "cell_type": "code",
   "execution_count": 13,
   "id": "4030155a",
   "metadata": {},
   "outputs": [
    {
     "data": {
      "text/plain": [
       "array(['am currently', 'am vatsal', 'are you', 'currently learning',\n",
       "       'doing guys', 'hello am', 'learning nlp', 'vatsal shah',\n",
       "       'what are', 'you doing'], dtype=object)"
      ]
     },
     "execution_count": 13,
     "metadata": {},
     "output_type": "execute_result"
    }
   ],
   "source": [
    "vectorizer1=CountVectorizer(ngram_range=(2, 2))\n",
    "x1=vectorizer1.fit_transform(dataset)\n",
    "vocab=vectorizer1.get_feature_names_out()\n",
    "vocab"
   ]
  },
  {
   "cell_type": "code",
   "execution_count": 14,
   "id": "bb0957ef",
   "metadata": {},
   "outputs": [
    {
     "data": {
      "text/plain": [
       "array([[0, 1, 0, 0, 0, 1, 0, 1, 0, 0],\n",
       "       [0, 0, 1, 0, 1, 0, 0, 0, 1, 1],\n",
       "       [1, 0, 0, 1, 0, 0, 1, 0, 0, 0]])"
      ]
     },
     "execution_count": 14,
     "metadata": {},
     "output_type": "execute_result"
    }
   ],
   "source": [
    "x=vectorizer1.fit_transform(dataset)\n",
    "x.toarray()"
   ]
  },
  {
   "cell_type": "code",
   "execution_count": null,
   "id": "452bd18e",
   "metadata": {},
   "outputs": [],
   "source": []
  }
 ],
 "metadata": {
  "kernelspec": {
   "display_name": "venv",
   "language": "python",
   "name": "python3"
  },
  "language_info": {
   "codemirror_mode": {
    "name": "ipython",
    "version": 3
   },
   "file_extension": ".py",
   "mimetype": "text/x-python",
   "name": "python",
   "nbconvert_exporter": "python",
   "pygments_lexer": "ipython3",
   "version": "3.10.0"
  }
 },
 "nbformat": 4,
 "nbformat_minor": 5
}
